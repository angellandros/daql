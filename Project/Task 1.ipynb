{
 "cells": [
  {
   "cell_type": "markdown",
   "metadata": {},
   "source": [
    "# Task 1 : Understand Data\n",
    "Mohammad-Ali A'RÂBI, Youssef EL-HASSANI"
   ]
  },
  {
   "cell_type": "code",
   "execution_count": 1,
   "metadata": {
    "collapsed": true
   },
   "outputs": [],
   "source": [
    "from __future__ import print_function\n",
    "from collections import defaultdict\n",
    "import numpy as np\n",
    "import matplotlib.pyplot as plt\n",
    "%matplotlib inline"
   ]
  },
  {
   "cell_type": "markdown",
   "metadata": {},
   "source": [
    "a) Compute sparsity of ratings."
   ]
  },
  {
   "cell_type": "code",
   "execution_count": 2,
   "metadata": {},
   "outputs": [
    {
     "name": "stdout",
     "output_type": "stream",
     "text": [
      "0.0016960866483589072\n"
     ]
    }
   ],
   "source": [
    "def calc_sparsity():\n",
    "    rating_count = defaultdict(int)\n",
    "    all_items = set()\n",
    "    with open('ratings_Electronics_50.csv', 'r') as f:\n",
    "        for row in f:\n",
    "            user, item, _, _ = row.split(',')\n",
    "            rating_count[user] += 1\n",
    "            all_items.add(item)\n",
    "    number_of_items = len(all_items)\n",
    "    total_means = 0.0\n",
    "    for _, value in rating_count.items():\n",
    "        total_means += value / number_of_items\n",
    "    return total_means / len(rating_count.keys())\n",
    "\n",
    "print(calc_sparsity())"
   ]
  },
  {
   "cell_type": "markdown",
   "metadata": {},
   "source": [
    "b) Plot histogram of ratings."
   ]
  },
  {
   "cell_type": "code",
   "execution_count": 8,
   "metadata": {},
   "outputs": [
    {
     "data": {
      "image/png": "[encoded data removed]",
      "text/plain": [
       "<matplotlib.figure.Figure at 0x7f69ad3a6f28>"
      ]
     },
     "metadata": {},
     "output_type": "display_data"
    }
   ],
   "source": [
    "def plot_histogram_per_item():\n",
    "    item_rate_count = defaultdict(int)\n",
    "    with open('ratings_Electronics_50.csv', 'r') as f:\n",
    "        for row in f:\n",
    "            _, item, _, _ = row.split(',')\n",
    "            item_rate_count[item] += 1\n",
    "    plt.hist(list(item_rate_count.values()), 30)\n",
    "    \n",
    "plot_histogram_per_item()"
   ]
  },
  {
   "cell_type": "markdown",
   "metadata": {},
   "source": [
    "Ratings follow a long-tailed distribution."
   ]
  },
  {
   "cell_type": "markdown",
   "metadata": {},
   "source": [
    "c) Plot histogram with respect to the users."
   ]
  },
  {
   "cell_type": "code",
   "execution_count": 11,
   "metadata": {},
   "outputs": [
    {
     "data": {
      "image/png": "[encoded data removed]",
      "text/plain": [
       "<matplotlib.figure.Figure at 0x7f69ac8a0b38>"
      ]
     },
     "metadata": {},
     "output_type": "display_data"
    }
   ],
   "source": [
    "def plot_histogram_per_item():\n",
    "    user_rate_count = defaultdict(int)\n",
    "    with open('ratings_Electronics_50.csv', 'r') as f:\n",
    "        for row in f:\n",
    "            user, _, _, _ = row.split(',')\n",
    "            user_rate_count[user] += 1\n",
    "    plt.hist(list(user_rate_count.values()), 30)\n",
    "    \n",
    "plot_histogram_per_item()"
   ]
  },
  {
   "cell_type": "markdown",
   "metadata": {},
   "source": [
    "d) Boxplot per item and per user."
   ]
  },
  {
   "cell_type": "code",
   "execution_count": 10,
   "metadata": {},
   "outputs": [
    {
     "data": {
      "image/png": "[encoded data removed]",
      "text/plain": [
       "<matplotlib.figure.Figure at 0x7fe58b570e80>"
      ]
     },
     "metadata": {},
     "output_type": "display_data"
    }
   ],
   "source": [
    "def mean_max_per_item():\n",
    "    item_rate = defaultdict(list)\n",
    "    with open('ratings_Electronics_50.csv', 'r') as f:\n",
    "        for row in f:\n",
    "            _, item, rating, _ = row.split(',')\n",
    "            item_rate[item].append(float(rating))\n",
    "    ratings = list(item_rate.values())\n",
    "    mins = [np.min(r) for r in ratings]\n",
    "    maxs = [np.max(r) for r in ratings]\n",
    "    means = [np.mean(r) for r in ratings]\n",
    "    meds = [np.median(r) for r in ratings]\n",
    "    x = range(len(ratings))\n",
    "    \n",
    "    plt.boxplot([mins, means, meds, maxs])\n",
    "    plt.xticks([1, 2, 3, 4], ['min', 'mean', 'median', 'max'])\n",
    "    \n",
    "mean_max_per_item()"
   ]
  },
  {
   "cell_type": "code",
   "execution_count": 11,
   "metadata": {},
   "outputs": [
    {
     "data": {
      "image/png": "[encoded data removed]",
      "text/plain": [
       "<matplotlib.figure.Figure at 0x7fe590199390>"
      ]
     },
     "metadata": {},
     "output_type": "display_data"
    }
   ],
   "source": [
    "def mean_max_per_user():\n",
    "    user_rate = defaultdict(list)\n",
    "    with open('ratings_Electronics_50.csv', 'r') as f:\n",
    "        for row in f:\n",
    "            user, _, rating, _ = row.split(',')\n",
    "            user_rate[user].append(float(rating))\n",
    "    ratings = list(user_rate.values())\n",
    "    mins = [np.min(r) for r in ratings]\n",
    "    maxs = [np.max(r) for r in ratings]\n",
    "    means = [np.mean(r) for r in ratings]\n",
    "    meds http://localhost:8888/notebooks/data/task1.ipynb#= [np.median(r) for r in ratings]\n",
    "    x = range(len(ratings))\n",
    "    \n",
    "    plt.boxplot([mins, means, meds, maxs])\n",
    "    plt.xticks([1, 2, 3, 4], ['min', 'mean', 'median', 'max'])\n",
    "    \n",
    "mean_max_per_item()"
   ]
  },
  {
   "cell_type": "markdown",
   "metadata": {},
   "source": [
    "e) Ratings analysis."
   ]
  },
  {
   "cell_type": "markdown",
   "metadata": {},
   "source": [
    "Users tend to give higher rates. As the plots show, more than half of all the ratings where 5 stars, half of the users never rated an item below 4 stars, and the same for items, half of the items never received a rating below 4."
   ]
  },
  {
   "cell_type": "code",
   "execution_count": null,
   "metadata": {
    "collapsed": true
   },
   "outputs": [],
   "source": []
  }
 ],
 "metadata": {
  "kernelspec": {
   "display_name": "Python 3",
   "language": "python",
   "name": "python3"
  },
  "language_info": {
   "codemirror_mode": {
    "name": "ipython",
    "version": 3
   },
   "file_extension": ".py",
   "mimetype": "text/x-python",
   "name": "python",
   "nbconvert_exporter": "python",
   "pygments_lexer": "ipython3",
   "version": "3.4.3"
  }
 },
 "nbformat": 4,
 "nbformat_minor": 2
}
